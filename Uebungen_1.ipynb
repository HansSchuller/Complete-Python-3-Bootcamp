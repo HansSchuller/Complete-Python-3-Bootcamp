{
 "metadata": {
  "language_info": {
   "codemirror_mode": {
    "name": "ipython",
    "version": 3
   },
   "file_extension": ".py",
   "mimetype": "text/x-python",
   "name": "python",
   "nbconvert_exporter": "python",
   "pygments_lexer": "ipython3",
   "version": "3.7.6-final"
  },
  "orig_nbformat": 2,
  "kernelspec": {
   "name": "python3",
   "display_name": "Python 3"
  }
 },
 "nbformat": 4,
 "nbformat_minor": 2,
 "cells": [
  {
   "cell_type": "code",
   "execution_count": 3,
   "metadata": {},
   "outputs": [
    {
     "output_type": "stream",
     "name": "stdout",
     "text": [
      "Gib eine Aufgabe mit den Grundrechenarten ein. Das Ergebnis muss 100 betragen.\n",
      "\n",
      "Deine Rechnung war richtig !\n",
      "\n",
      "\n"
     ]
    },
    {
     "output_type": "error",
     "ename": "NameError",
     "evalue": "name 'breakJ' is not defined",
     "traceback": [
      "\u001b[1;31m---------------------------------------------------------------------------\u001b[0m",
      "\u001b[1;31mNameError\u001b[0m                                 Traceback (most recent call last)",
      "\u001b[1;32m<ipython-input-3-cfea9a0e65e3>\u001b[0m in \u001b[0;36m<module>\u001b[1;34m\u001b[0m\n\u001b[0;32m     21\u001b[0m     \u001b[0mprint\u001b[0m\u001b[1;33m(\u001b[0m\u001b[1;33m)\u001b[0m\u001b[1;33m\u001b[0m\u001b[1;33m\u001b[0m\u001b[0m\n\u001b[0;32m     22\u001b[0m     \u001b[1;32mif\u001b[0m \u001b[0mt\u001b[0m\u001b[1;33m.\u001b[0m\u001b[0mupper\u001b[0m\u001b[1;33m(\u001b[0m\u001b[1;33m)\u001b[0m \u001b[1;33m==\u001b[0m \u001b[1;34m\"N\"\u001b[0m \u001b[1;33m:\u001b[0m\u001b[1;33m\u001b[0m\u001b[1;33m\u001b[0m\u001b[0m\n\u001b[1;32m---> 23\u001b[1;33m         \u001b[0mbreakJ\u001b[0m\u001b[1;33m\u001b[0m\u001b[1;33m\u001b[0m\u001b[0m\n\u001b[0m",
      "\u001b[1;31mNameError\u001b[0m: name 'breakJ' is not defined"
     ]
    }
   ],
   "source": [
    "print(\"Gib eine Aufgabe mit den Grundrechenarten ein. Das Ergebnis muss 100 betragen.\" )\n",
    "while True:\n",
    "    a = int(input(\"Zahl 1   : \"))\n",
    "    o = input(\"Operator : \")\n",
    "    b = int(input(\"Zahl 2   : \"))\n",
    "    print()\n",
    "    if (o == \"+\") :\n",
    "        e = a + b\n",
    "    if (o == \"-\") :\n",
    "        e = a - b\n",
    "    if (o == \"*\") :\n",
    "        e = a * b\n",
    "    if (o == \"/\") :\n",
    "        e = a / b\n",
    "    if e == 100 :\n",
    "        print(\"Deine Rechnung war richtig !\")\n",
    "    if e != 100 :\n",
    "        print(\"Deine Rechnung war leider falsch !\")\n",
    "    print()\n",
    "    t = input(\"Willst du nocheinmal spielen ? (J/N) :\")\n",
    "    print()\n",
    "    if t.upper() == \"N\" :\n",
    "        breakJ"
   ]
  },
  {
   "cell_type": "code",
   "execution_count": null,
   "metadata": {},
   "outputs": [],
   "source": []
  }
 ]
}